{
  "nbformat": 4,
  "nbformat_minor": 0,
  "metadata": {
    "colab": {
      "name": "Ai session 1.ipynb",
      "provenance": [],
      "authorship_tag": "ABX9TyMtD9j+5nr/RgKw/Aewa09h",
      "include_colab_link": true
    },
    "kernelspec": {
      "name": "python3",
      "display_name": "Python 3"
    },
    "language_info": {
      "name": "python"
    }
  },
  "cells": [
    {
      "cell_type": "markdown",
      "metadata": {
        "id": "view-in-github",
        "colab_type": "text"
      },
      "source": [
        "<a href=\"https://colab.research.google.com/github/hafedh-hichri/teaching-materials/blob/main/Ai_session_1.ipynb\" target=\"_parent\"><img src=\"https://colab.research.google.com/assets/colab-badge.svg\" alt=\"Open In Colab\"/></a>"
      ]
    },
    {
      "cell_type": "markdown",
      "source": [
        "you can download the dataset from this link : https://drive.google.com/file/d/1r5W5ysj8ESGbhxCDOcXsN7Aqt3L8xoIR/view?usp=sharing"
      ],
      "metadata": {
        "id": "6v6FF2a_-8cN"
      }
    },
    {
      "cell_type": "code",
      "execution_count": 1,
      "metadata": {
        "id": "CMSUBJ_cvnId"
      },
      "outputs": [],
      "source": [
        "import pandas as pd "
      ]
    },
    {
      "cell_type": "code",
      "source": [
        "df = pd.read_csv('heartattack.csv')"
      ],
      "metadata": {
        "id": "yGQ9JKjowVT8"
      },
      "execution_count": 2,
      "outputs": []
    },
    {
      "cell_type": "code",
      "source": [
        "df.head()"
      ],
      "metadata": {
        "colab": {
          "base_uri": "https://localhost:8080/",
          "height": 206
        },
        "id": "i7Llt8OdxJKS",
        "outputId": "51407389-5e5a-44fe-9fa3-e5e7bf37460c"
      },
      "execution_count": 3,
      "outputs": [
        {
          "output_type": "execute_result",
          "data": {
            "text/html": [
              "<div>\n",
              "<style scoped>\n",
              "    .dataframe tbody tr th:only-of-type {\n",
              "        vertical-align: middle;\n",
              "    }\n",
              "\n",
              "    .dataframe tbody tr th {\n",
              "        vertical-align: top;\n",
              "    }\n",
              "\n",
              "    .dataframe thead th {\n",
              "        text-align: right;\n",
              "    }\n",
              "</style>\n",
              "<table border=\"1\" class=\"dataframe\">\n",
              "  <thead>\n",
              "    <tr style=\"text-align: right;\">\n",
              "      <th></th>\n",
              "      <th>age</th>\n",
              "      <th>cp</th>\n",
              "      <th>trestbps</th>\n",
              "      <th>chol</th>\n",
              "      <th>fbs</th>\n",
              "      <th>restecg</th>\n",
              "      <th>thalach</th>\n",
              "      <th>exang</th>\n",
              "      <th>oldpeak</th>\n",
              "      <th>slope</th>\n",
              "      <th>ca</th>\n",
              "      <th>thal</th>\n",
              "      <th>target</th>\n",
              "    </tr>\n",
              "  </thead>\n",
              "  <tbody>\n",
              "    <tr>\n",
              "      <th>0</th>\n",
              "      <td>63</td>\n",
              "      <td>1</td>\n",
              "      <td>145</td>\n",
              "      <td>233</td>\n",
              "      <td>1</td>\n",
              "      <td>2</td>\n",
              "      <td>150</td>\n",
              "      <td>0</td>\n",
              "      <td>2.3</td>\n",
              "      <td>3</td>\n",
              "      <td>0.0</td>\n",
              "      <td>6.0</td>\n",
              "      <td>0</td>\n",
              "    </tr>\n",
              "    <tr>\n",
              "      <th>1</th>\n",
              "      <td>67</td>\n",
              "      <td>4</td>\n",
              "      <td>160</td>\n",
              "      <td>286</td>\n",
              "      <td>0</td>\n",
              "      <td>2</td>\n",
              "      <td>108</td>\n",
              "      <td>1</td>\n",
              "      <td>1.5</td>\n",
              "      <td>2</td>\n",
              "      <td>3.0</td>\n",
              "      <td>3.0</td>\n",
              "      <td>1</td>\n",
              "    </tr>\n",
              "    <tr>\n",
              "      <th>2</th>\n",
              "      <td>67</td>\n",
              "      <td>4</td>\n",
              "      <td>120</td>\n",
              "      <td>229</td>\n",
              "      <td>0</td>\n",
              "      <td>2</td>\n",
              "      <td>129</td>\n",
              "      <td>1</td>\n",
              "      <td>2.6</td>\n",
              "      <td>2</td>\n",
              "      <td>2.0</td>\n",
              "      <td>7.0</td>\n",
              "      <td>1</td>\n",
              "    </tr>\n",
              "    <tr>\n",
              "      <th>3</th>\n",
              "      <td>37</td>\n",
              "      <td>3</td>\n",
              "      <td>130</td>\n",
              "      <td>250</td>\n",
              "      <td>0</td>\n",
              "      <td>0</td>\n",
              "      <td>187</td>\n",
              "      <td>0</td>\n",
              "      <td>3.5</td>\n",
              "      <td>3</td>\n",
              "      <td>0.0</td>\n",
              "      <td>3.0</td>\n",
              "      <td>0</td>\n",
              "    </tr>\n",
              "    <tr>\n",
              "      <th>4</th>\n",
              "      <td>41</td>\n",
              "      <td>2</td>\n",
              "      <td>130</td>\n",
              "      <td>204</td>\n",
              "      <td>0</td>\n",
              "      <td>2</td>\n",
              "      <td>172</td>\n",
              "      <td>0</td>\n",
              "      <td>1.4</td>\n",
              "      <td>1</td>\n",
              "      <td>0.0</td>\n",
              "      <td>3.0</td>\n",
              "      <td>0</td>\n",
              "    </tr>\n",
              "  </tbody>\n",
              "</table>\n",
              "</div>"
            ],
            "text/plain": [
              "   age  cp  trestbps  chol  fbs  ...  oldpeak  slope   ca  thal  target\n",
              "0   63   1       145   233    1  ...      2.3      3  0.0   6.0       0\n",
              "1   67   4       160   286    0  ...      1.5      2  3.0   3.0       1\n",
              "2   67   4       120   229    0  ...      2.6      2  2.0   7.0       1\n",
              "3   37   3       130   250    0  ...      3.5      3  0.0   3.0       0\n",
              "4   41   2       130   204    0  ...      1.4      1  0.0   3.0       0\n",
              "\n",
              "[5 rows x 13 columns]"
            ]
          },
          "metadata": {},
          "execution_count": 3
        }
      ]
    },
    {
      "cell_type": "markdown",
      "source": [
        "the command `df.head()` shows the first 5 rows of our dataset "
      ],
      "metadata": {
        "id": "LAlRnicU8Kqw"
      }
    },
    {
      "cell_type": "code",
      "source": [
        "df.info()"
      ],
      "metadata": {
        "colab": {
          "base_uri": "https://localhost:8080/"
        },
        "id": "WUYat3xexKXE",
        "outputId": "d3b820f5-2310-4ef6-c6a4-00f25f754412"
      },
      "execution_count": 4,
      "outputs": [
        {
          "output_type": "stream",
          "name": "stdout",
          "text": [
            "<class 'pandas.core.frame.DataFrame'>\n",
            "RangeIndex: 297 entries, 0 to 296\n",
            "Data columns (total 13 columns):\n",
            " #   Column    Non-Null Count  Dtype  \n",
            "---  ------    --------------  -----  \n",
            " 0   age       297 non-null    int64  \n",
            " 1   cp        297 non-null    int64  \n",
            " 2   trestbps  297 non-null    int64  \n",
            " 3   chol      297 non-null    int64  \n",
            " 4   fbs       297 non-null    int64  \n",
            " 5   restecg   297 non-null    int64  \n",
            " 6   thalach   297 non-null    int64  \n",
            " 7   exang     297 non-null    int64  \n",
            " 8   oldpeak   297 non-null    float64\n",
            " 9   slope     297 non-null    int64  \n",
            " 10  ca        297 non-null    float64\n",
            " 11  thal      297 non-null    float64\n",
            " 12  target    297 non-null    int64  \n",
            "dtypes: float64(3), int64(10)\n",
            "memory usage: 30.3 KB\n"
          ]
        }
      ]
    },
    {
      "cell_type": "markdown",
      "source": [
        "# column meaning\n",
        "- age: The person’s age in years\n",
        "- cp: chest pain type\n",
        "- trestbps: The person’s resting blood pressure (mm Hg on admission to the hospital)\n",
        "- chol: The person’s cholesterol measurement in mg/dl\n",
        "- fbs: The person’s fasting blood sugar (> 120 mg/dl, 1 = true; 0 = false)\n",
        "- restecg: resting electrocardiographic results\n",
        "- thalach: The person’s maximum heart rate achieved\n",
        "- exang: Exercise induced angina (1 = yes; 0 = no)\n",
        "- oldpeak: ST depression induced by exercise relative to rest (‘ST’ relates to positions on the ECG plot. See more here)\n",
        "- slope: the slope of the peak exercise ST segment \n",
        "- ca: The number of major vessels (0–3)\n",
        "- thal: A blood disorder called thalassemia Value 0: NULL (dropped from the dataset previously\n",
        "\n",
        "- target: Heart disease (1 = no, 0= yes)"
      ],
      "metadata": {
        "id": "dV1lRHFq0eL_"
      }
    },
    {
      "cell_type": "markdown",
      "source": [
        "![OPEN ME 9.jpg](data:image/jpeg;base64,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)"
      ],
      "metadata": {
        "id": "jPyPLF-5xRKg"
      }
    },
    {
      "cell_type": "markdown",
      "source": [
        "# in here we have a classifcation problem \n",
        "to approch it we must first specify the features and the target \n",
        "- features ( X ) : blood tests\n",
        "- the target ( y ) : state [ heart attack or not ]"
      ],
      "metadata": {
        "id": "qe9ccfAWzMcK"
      }
    },
    {
      "cell_type": "code",
      "source": [
        "df.columns"
      ],
      "metadata": {
        "colab": {
          "base_uri": "https://localhost:8080/"
        },
        "id": "0Tnh3TMZxLsJ",
        "outputId": "2a61d122-4896-4d83-b308-cc3ae0cb5bc1"
      },
      "execution_count": 5,
      "outputs": [
        {
          "output_type": "execute_result",
          "data": {
            "text/plain": [
              "Index(['age', 'cp', 'trestbps', 'chol', 'fbs', 'restecg', 'thalach', 'exang',\n",
              "       'oldpeak', 'slope', 'ca', 'thal', 'target'],\n",
              "      dtype='object')"
            ]
          },
          "metadata": {},
          "execution_count": 5
        }
      ]
    },
    {
      "cell_type": "code",
      "source": [
        "X = df[['age', 'cp', 'trestbps', 'chol', 'fbs', 'restecg', 'thalach', 'exang',\n",
        "       'oldpeak', 'slope', 'ca', 'thal']]\n",
        "X.head() "
      ],
      "metadata": {
        "colab": {
          "base_uri": "https://localhost:8080/",
          "height": 206
        },
        "id": "fFXWbF2QyjxR",
        "outputId": "421886f1-d8d3-466c-f2bf-f290003205db"
      },
      "execution_count": 6,
      "outputs": [
        {
          "output_type": "execute_result",
          "data": {
            "text/html": [
              "<div>\n",
              "<style scoped>\n",
              "    .dataframe tbody tr th:only-of-type {\n",
              "        vertical-align: middle;\n",
              "    }\n",
              "\n",
              "    .dataframe tbody tr th {\n",
              "        vertical-align: top;\n",
              "    }\n",
              "\n",
              "    .dataframe thead th {\n",
              "        text-align: right;\n",
              "    }\n",
              "</style>\n",
              "<table border=\"1\" class=\"dataframe\">\n",
              "  <thead>\n",
              "    <tr style=\"text-align: right;\">\n",
              "      <th></th>\n",
              "      <th>age</th>\n",
              "      <th>cp</th>\n",
              "      <th>trestbps</th>\n",
              "      <th>chol</th>\n",
              "      <th>fbs</th>\n",
              "      <th>restecg</th>\n",
              "      <th>thalach</th>\n",
              "      <th>exang</th>\n",
              "      <th>oldpeak</th>\n",
              "      <th>slope</th>\n",
              "      <th>ca</th>\n",
              "      <th>thal</th>\n",
              "    </tr>\n",
              "  </thead>\n",
              "  <tbody>\n",
              "    <tr>\n",
              "      <th>0</th>\n",
              "      <td>63</td>\n",
              "      <td>1</td>\n",
              "      <td>145</td>\n",
              "      <td>233</td>\n",
              "      <td>1</td>\n",
              "      <td>2</td>\n",
              "      <td>150</td>\n",
              "      <td>0</td>\n",
              "      <td>2.3</td>\n",
              "      <td>3</td>\n",
              "      <td>0.0</td>\n",
              "      <td>6.0</td>\n",
              "    </tr>\n",
              "    <tr>\n",
              "      <th>1</th>\n",
              "      <td>67</td>\n",
              "      <td>4</td>\n",
              "      <td>160</td>\n",
              "      <td>286</td>\n",
              "      <td>0</td>\n",
              "      <td>2</td>\n",
              "      <td>108</td>\n",
              "      <td>1</td>\n",
              "      <td>1.5</td>\n",
              "      <td>2</td>\n",
              "      <td>3.0</td>\n",
              "      <td>3.0</td>\n",
              "    </tr>\n",
              "    <tr>\n",
              "      <th>2</th>\n",
              "      <td>67</td>\n",
              "      <td>4</td>\n",
              "      <td>120</td>\n",
              "      <td>229</td>\n",
              "      <td>0</td>\n",
              "      <td>2</td>\n",
              "      <td>129</td>\n",
              "      <td>1</td>\n",
              "      <td>2.6</td>\n",
              "      <td>2</td>\n",
              "      <td>2.0</td>\n",
              "      <td>7.0</td>\n",
              "    </tr>\n",
              "    <tr>\n",
              "      <th>3</th>\n",
              "      <td>37</td>\n",
              "      <td>3</td>\n",
              "      <td>130</td>\n",
              "      <td>250</td>\n",
              "      <td>0</td>\n",
              "      <td>0</td>\n",
              "      <td>187</td>\n",
              "      <td>0</td>\n",
              "      <td>3.5</td>\n",
              "      <td>3</td>\n",
              "      <td>0.0</td>\n",
              "      <td>3.0</td>\n",
              "    </tr>\n",
              "    <tr>\n",
              "      <th>4</th>\n",
              "      <td>41</td>\n",
              "      <td>2</td>\n",
              "      <td>130</td>\n",
              "      <td>204</td>\n",
              "      <td>0</td>\n",
              "      <td>2</td>\n",
              "      <td>172</td>\n",
              "      <td>0</td>\n",
              "      <td>1.4</td>\n",
              "      <td>1</td>\n",
              "      <td>0.0</td>\n",
              "      <td>3.0</td>\n",
              "    </tr>\n",
              "  </tbody>\n",
              "</table>\n",
              "</div>"
            ],
            "text/plain": [
              "   age  cp  trestbps  chol  fbs  ...  exang  oldpeak  slope   ca  thal\n",
              "0   63   1       145   233    1  ...      0      2.3      3  0.0   6.0\n",
              "1   67   4       160   286    0  ...      1      1.5      2  3.0   3.0\n",
              "2   67   4       120   229    0  ...      1      2.6      2  2.0   7.0\n",
              "3   37   3       130   250    0  ...      0      3.5      3  0.0   3.0\n",
              "4   41   2       130   204    0  ...      0      1.4      1  0.0   3.0\n",
              "\n",
              "[5 rows x 12 columns]"
            ]
          },
          "metadata": {},
          "execution_count": 6
        }
      ]
    },
    {
      "cell_type": "code",
      "source": [
        "y = df['target']\n",
        "y.head()"
      ],
      "metadata": {
        "colab": {
          "base_uri": "https://localhost:8080/"
        },
        "id": "cGIEYJlp3dPx",
        "outputId": "d3b728d5-719a-43fe-8a05-b47199438827"
      },
      "execution_count": 7,
      "outputs": [
        {
          "output_type": "execute_result",
          "data": {
            "text/plain": [
              "0    0\n",
              "1    1\n",
              "2    1\n",
              "3    0\n",
              "4    0\n",
              "Name: target, dtype: int64"
            ]
          },
          "metadata": {},
          "execution_count": 7
        }
      ]
    },
    {
      "cell_type": "markdown",
      "source": [
        "to select a column from a dataset you can use one of these commands :     \n",
        "- `df['col']`\n",
        "- `df[['col']]`\n",
        "- `df.loc[: , 'col']`\n",
        "- `df.iloc[: , col_index ] `"
      ],
      "metadata": {
        "id": "Epsco2XP8cAa"
      }
    },
    {
      "cell_type": "markdown",
      "source": [
        "to select multiple columns : \n",
        "- `df[['col1','col2']]`\n",
        "- `df.loc[: , ['col1','col2']]`\n",
        "- `df.iloc[: , [col_indx1 , col_index2]]`"
      ],
      "metadata": {
        "id": "dSmHIK209BmV"
      }
    },
    {
      "cell_type": "code",
      "source": [
        "from sklearn.model_selection import train_test_split "
      ],
      "metadata": {
        "id": "YU571slL3ja_"
      },
      "execution_count": 8,
      "outputs": []
    },
    {
      "cell_type": "code",
      "source": [
        "X_train , X_test , y_train , y_test = train_test_split(X,y)"
      ],
      "metadata": {
        "id": "hlgr7TSq4bQE"
      },
      "execution_count": 9,
      "outputs": []
    },
    {
      "cell_type": "code",
      "source": [
        "X_train.head()"
      ],
      "metadata": {
        "colab": {
          "base_uri": "https://localhost:8080/",
          "height": 206
        },
        "id": "FmmYULb_9-q2",
        "outputId": "c7027415-7b4c-4920-af6d-de73885f4afe"
      },
      "execution_count": 10,
      "outputs": [
        {
          "output_type": "execute_result",
          "data": {
            "text/html": [
              "<div>\n",
              "<style scoped>\n",
              "    .dataframe tbody tr th:only-of-type {\n",
              "        vertical-align: middle;\n",
              "    }\n",
              "\n",
              "    .dataframe tbody tr th {\n",
              "        vertical-align: top;\n",
              "    }\n",
              "\n",
              "    .dataframe thead th {\n",
              "        text-align: right;\n",
              "    }\n",
              "</style>\n",
              "<table border=\"1\" class=\"dataframe\">\n",
              "  <thead>\n",
              "    <tr style=\"text-align: right;\">\n",
              "      <th></th>\n",
              "      <th>age</th>\n",
              "      <th>cp</th>\n",
              "      <th>trestbps</th>\n",
              "      <th>chol</th>\n",
              "      <th>fbs</th>\n",
              "      <th>restecg</th>\n",
              "      <th>thalach</th>\n",
              "      <th>exang</th>\n",
              "      <th>oldpeak</th>\n",
              "      <th>slope</th>\n",
              "      <th>ca</th>\n",
              "      <th>thal</th>\n",
              "    </tr>\n",
              "  </thead>\n",
              "  <tbody>\n",
              "    <tr>\n",
              "      <th>120</th>\n",
              "      <td>63</td>\n",
              "      <td>4</td>\n",
              "      <td>150</td>\n",
              "      <td>407</td>\n",
              "      <td>0</td>\n",
              "      <td>2</td>\n",
              "      <td>154</td>\n",
              "      <td>0</td>\n",
              "      <td>4.0</td>\n",
              "      <td>2</td>\n",
              "      <td>3.0</td>\n",
              "      <td>7.0</td>\n",
              "    </tr>\n",
              "    <tr>\n",
              "      <th>245</th>\n",
              "      <td>52</td>\n",
              "      <td>4</td>\n",
              "      <td>125</td>\n",
              "      <td>212</td>\n",
              "      <td>0</td>\n",
              "      <td>0</td>\n",
              "      <td>168</td>\n",
              "      <td>0</td>\n",
              "      <td>1.0</td>\n",
              "      <td>1</td>\n",
              "      <td>2.0</td>\n",
              "      <td>7.0</td>\n",
              "    </tr>\n",
              "    <tr>\n",
              "      <th>151</th>\n",
              "      <td>67</td>\n",
              "      <td>3</td>\n",
              "      <td>115</td>\n",
              "      <td>564</td>\n",
              "      <td>0</td>\n",
              "      <td>2</td>\n",
              "      <td>160</td>\n",
              "      <td>0</td>\n",
              "      <td>1.6</td>\n",
              "      <td>2</td>\n",
              "      <td>0.0</td>\n",
              "      <td>7.0</td>\n",
              "    </tr>\n",
              "    <tr>\n",
              "      <th>10</th>\n",
              "      <td>57</td>\n",
              "      <td>4</td>\n",
              "      <td>140</td>\n",
              "      <td>192</td>\n",
              "      <td>0</td>\n",
              "      <td>0</td>\n",
              "      <td>148</td>\n",
              "      <td>0</td>\n",
              "      <td>0.4</td>\n",
              "      <td>2</td>\n",
              "      <td>0.0</td>\n",
              "      <td>6.0</td>\n",
              "    </tr>\n",
              "    <tr>\n",
              "      <th>267</th>\n",
              "      <td>66</td>\n",
              "      <td>4</td>\n",
              "      <td>160</td>\n",
              "      <td>228</td>\n",
              "      <td>0</td>\n",
              "      <td>2</td>\n",
              "      <td>138</td>\n",
              "      <td>0</td>\n",
              "      <td>2.3</td>\n",
              "      <td>1</td>\n",
              "      <td>0.0</td>\n",
              "      <td>6.0</td>\n",
              "    </tr>\n",
              "  </tbody>\n",
              "</table>\n",
              "</div>"
            ],
            "text/plain": [
              "     age  cp  trestbps  chol  fbs  ...  exang  oldpeak  slope   ca  thal\n",
              "120   63   4       150   407    0  ...      0      4.0      2  3.0   7.0\n",
              "245   52   4       125   212    0  ...      0      1.0      1  2.0   7.0\n",
              "151   67   3       115   564    0  ...      0      1.6      2  0.0   7.0\n",
              "10    57   4       140   192    0  ...      0      0.4      2  0.0   6.0\n",
              "267   66   4       160   228    0  ...      0      2.3      1  0.0   6.0\n",
              "\n",
              "[5 rows x 12 columns]"
            ]
          },
          "metadata": {},
          "execution_count": 10
        }
      ]
    },
    {
      "cell_type": "markdown",
      "source": [
        "# training the AI "
      ],
      "metadata": {
        "id": "WjEpjUyCBs1p"
      }
    },
    {
      "cell_type": "code",
      "source": [
        "from sklearn.tree import DecisionTreeClassifier\n",
        "\n",
        "model = DecisionTreeClassifier()\n",
        "model.fit(X_train, y_train)\n",
        "model.score(X_test , y_test)"
      ],
      "metadata": {
        "colab": {
          "base_uri": "https://localhost:8080/"
        },
        "id": "yqNURHdc5PMe",
        "outputId": "d9806797-9932-4c34-e03f-fc8d2f16cb6c"
      },
      "execution_count": 11,
      "outputs": [
        {
          "output_type": "execute_result",
          "data": {
            "text/plain": [
              "0.8"
            ]
          },
          "metadata": {},
          "execution_count": 11
        }
      ]
    },
    {
      "cell_type": "code",
      "source": [
        "from sklearn.ensemble import RandomForestClassifier\n",
        "\n",
        "model2 = RandomForestClassifier()\n",
        "model2.fit(X_train,y_train)\n",
        "model2.score(X_test,y_test)"
      ],
      "metadata": {
        "colab": {
          "base_uri": "https://localhost:8080/"
        },
        "id": "C9Mkeakw5meT",
        "outputId": "175fcdfc-dc10-4321-c17b-7174ef284a63"
      },
      "execution_count": 12,
      "outputs": [
        {
          "output_type": "execute_result",
          "data": {
            "text/plain": [
              "0.8533333333333334"
            ]
          },
          "metadata": {},
          "execution_count": 12
        }
      ]
    },
    {
      "cell_type": "markdown",
      "source": [
        "# using the AI "
      ],
      "metadata": {
        "id": "8k57kcIhByFf"
      }
    },
    {
      "cell_type": "code",
      "source": [
        "df.head()"
      ],
      "metadata": {
        "colab": {
          "base_uri": "https://localhost:8080/",
          "height": 206
        },
        "id": "BaaRZp48B9Cn",
        "outputId": "97f90e1a-6002-4b27-f1fc-4eb812aa0e58"
      },
      "execution_count": 13,
      "outputs": [
        {
          "output_type": "execute_result",
          "data": {
            "text/html": [
              "<div>\n",
              "<style scoped>\n",
              "    .dataframe tbody tr th:only-of-type {\n",
              "        vertical-align: middle;\n",
              "    }\n",
              "\n",
              "    .dataframe tbody tr th {\n",
              "        vertical-align: top;\n",
              "    }\n",
              "\n",
              "    .dataframe thead th {\n",
              "        text-align: right;\n",
              "    }\n",
              "</style>\n",
              "<table border=\"1\" class=\"dataframe\">\n",
              "  <thead>\n",
              "    <tr style=\"text-align: right;\">\n",
              "      <th></th>\n",
              "      <th>age</th>\n",
              "      <th>cp</th>\n",
              "      <th>trestbps</th>\n",
              "      <th>chol</th>\n",
              "      <th>fbs</th>\n",
              "      <th>restecg</th>\n",
              "      <th>thalach</th>\n",
              "      <th>exang</th>\n",
              "      <th>oldpeak</th>\n",
              "      <th>slope</th>\n",
              "      <th>ca</th>\n",
              "      <th>thal</th>\n",
              "      <th>target</th>\n",
              "    </tr>\n",
              "  </thead>\n",
              "  <tbody>\n",
              "    <tr>\n",
              "      <th>0</th>\n",
              "      <td>63</td>\n",
              "      <td>1</td>\n",
              "      <td>145</td>\n",
              "      <td>233</td>\n",
              "      <td>1</td>\n",
              "      <td>2</td>\n",
              "      <td>150</td>\n",
              "      <td>0</td>\n",
              "      <td>2.3</td>\n",
              "      <td>3</td>\n",
              "      <td>0.0</td>\n",
              "      <td>6.0</td>\n",
              "      <td>0</td>\n",
              "    </tr>\n",
              "    <tr>\n",
              "      <th>1</th>\n",
              "      <td>67</td>\n",
              "      <td>4</td>\n",
              "      <td>160</td>\n",
              "      <td>286</td>\n",
              "      <td>0</td>\n",
              "      <td>2</td>\n",
              "      <td>108</td>\n",
              "      <td>1</td>\n",
              "      <td>1.5</td>\n",
              "      <td>2</td>\n",
              "      <td>3.0</td>\n",
              "      <td>3.0</td>\n",
              "      <td>1</td>\n",
              "    </tr>\n",
              "    <tr>\n",
              "      <th>2</th>\n",
              "      <td>67</td>\n",
              "      <td>4</td>\n",
              "      <td>120</td>\n",
              "      <td>229</td>\n",
              "      <td>0</td>\n",
              "      <td>2</td>\n",
              "      <td>129</td>\n",
              "      <td>1</td>\n",
              "      <td>2.6</td>\n",
              "      <td>2</td>\n",
              "      <td>2.0</td>\n",
              "      <td>7.0</td>\n",
              "      <td>1</td>\n",
              "    </tr>\n",
              "    <tr>\n",
              "      <th>3</th>\n",
              "      <td>37</td>\n",
              "      <td>3</td>\n",
              "      <td>130</td>\n",
              "      <td>250</td>\n",
              "      <td>0</td>\n",
              "      <td>0</td>\n",
              "      <td>187</td>\n",
              "      <td>0</td>\n",
              "      <td>3.5</td>\n",
              "      <td>3</td>\n",
              "      <td>0.0</td>\n",
              "      <td>3.0</td>\n",
              "      <td>0</td>\n",
              "    </tr>\n",
              "    <tr>\n",
              "      <th>4</th>\n",
              "      <td>41</td>\n",
              "      <td>2</td>\n",
              "      <td>130</td>\n",
              "      <td>204</td>\n",
              "      <td>0</td>\n",
              "      <td>2</td>\n",
              "      <td>172</td>\n",
              "      <td>0</td>\n",
              "      <td>1.4</td>\n",
              "      <td>1</td>\n",
              "      <td>0.0</td>\n",
              "      <td>3.0</td>\n",
              "      <td>0</td>\n",
              "    </tr>\n",
              "  </tbody>\n",
              "</table>\n",
              "</div>"
            ],
            "text/plain": [
              "   age  cp  trestbps  chol  fbs  ...  oldpeak  slope   ca  thal  target\n",
              "0   63   1       145   233    1  ...      2.3      3  0.0   6.0       0\n",
              "1   67   4       160   286    0  ...      1.5      2  3.0   3.0       1\n",
              "2   67   4       120   229    0  ...      2.6      2  2.0   7.0       1\n",
              "3   37   3       130   250    0  ...      3.5      3  0.0   3.0       0\n",
              "4   41   2       130   204    0  ...      1.4      1  0.0   3.0       0\n",
              "\n",
              "[5 rows x 13 columns]"
            ]
          },
          "metadata": {},
          "execution_count": 13
        }
      ]
    },
    {
      "cell_type": "code",
      "source": [
        "new_person = [[ 63 ,   1 , 145 , 233 ,   1 ,   2 , 150 ,   0 ,   2.3,\n",
        "         3 ,   0 ,   6]]\n",
        "\n",
        "model2.predict(new_person)"
      ],
      "metadata": {
        "colab": {
          "base_uri": "https://localhost:8080/"
        },
        "id": "YAOLQ6H7Bp8e",
        "outputId": "e64bf528-c54e-4e98-c24c-07f5ca58e54a"
      },
      "execution_count": 14,
      "outputs": [
        {
          "output_type": "stream",
          "name": "stderr",
          "text": [
            "/usr/local/lib/python3.7/dist-packages/sklearn/base.py:446: UserWarning: X does not have valid feature names, but RandomForestClassifier was fitted with feature names\n",
            "  \"X does not have valid feature names, but\"\n"
          ]
        },
        {
          "output_type": "execute_result",
          "data": {
            "text/plain": [
              "array([0])"
            ]
          },
          "metadata": {},
          "execution_count": 14
        }
      ]
    }
  ]
}